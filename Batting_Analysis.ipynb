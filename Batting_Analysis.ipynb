{
 "cells": [
  {
   "cell_type": "code",
   "execution_count": 52,
   "metadata": {},
   "outputs": [],
   "source": [
    "from __future__ import division\n",
    "from pyspark import SparkContext, SQLContext, SparkConf, StorageLevel\n",
    "import numpy as np\n",
    "from decimal import Decimal\n",
    "import matplotlib.pyplot as plt; plt.rcdefaults()"
   ]
  },
  {
   "cell_type": "code",
   "execution_count": 53,
   "metadata": {},
   "outputs": [],
   "source": [
    "sc = SparkContext.getOrCreate(SparkConf().setMaster(\"local[*]\"))"
   ]
  },
  {
   "cell_type": "code",
   "execution_count": 54,
   "metadata": {
    "scrolled": true
   },
   "outputs": [],
   "source": [
    "ODI_Data = sc.textFile(\"odi-batting-analysis.csv\", 4, use_unicode = False).repartition(6)"
   ]
  },
  {
   "cell_type": "code",
   "execution_count": 55,
   "metadata": {},
   "outputs": [],
   "source": [
    "fields = (\"Country\", \"Player\", \"Runs\", \"ScoreRate\", \"MatchDate\", \"Ground\", \"Versus\")"
   ]
  },
  {
   "cell_type": "code",
   "execution_count": 56,
   "metadata": {},
   "outputs": [],
   "source": [
    "from collections import namedtuple"
   ]
  },
  {
   "cell_type": "code",
   "execution_count": 57,
   "metadata": {},
   "outputs": [],
   "source": [
    "ODI= namedtuple('ODI', fields)\n",
    "\n",
    "def parseRecs( line ):\n",
    "    fields = line.decode('utf-8').split(\",\")\n",
    "    return ODI( fields[0], fields[1], int(fields[2]), float(fields[3]), fields[4], fields[5], fields[6])"
   ]
  },
  {
   "cell_type": "code",
   "execution_count": 58,
   "metadata": {},
   "outputs": [],
   "source": [
    "odi = ODI_Data.map( lambda rec: parseRecs( rec ))"
   ]
  },
  {
   "cell_type": "code",
   "execution_count": 62,
   "metadata": {},
   "outputs": [
    {
     "data": {
      "text/plain": [
       "[ODI(Country='Afghanistan', Player='Asghar Stanikzai', Runs=64, ScoreRate=94.11, MatchDate='10-07-2010', Ground='Hazelaarweg', Versus='Netherlands'),\n",
       " ODI(Country='Afghanistan', Player='Asghar Stanikzai', Runs=55, ScoreRate=88.7, MatchDate='09-10-2010', Ground='Gymkhana Club Ground', Versus='Kenya'),\n",
       " ODI(Country='Afghanistan', Player='Asghar Stanikzai', Runs=33, ScoreRate=47.14, MatchDate='18-02-2010', Ground='Sharjah CA Stadium', Versus='Canada'),\n",
       " ODI(Country='Afghanistan', Player='Asghar Stanikzai', Runs=30, ScoreRate=44.77, MatchDate='01-09-2009', Ground='VRA Ground', Versus='Netherlands'),\n",
       " ODI(Country='Afghanistan', Player='Asghar Stanikzai', Runs=28, ScoreRate=50.9, MatchDate='07-07-2010', Ground='Sportpark Westvliet', Versus='Netherlands'),\n",
       " ODI(Country='Afghanistan', Player='Asghar Stanikzai', Runs=28, ScoreRate=70.0, MatchDate='01-07-2010', Ground='Sportpark Westvliet', Versus='Canada'),\n",
       " ODI(Country='Afghanistan', Player='Asghar Stanikzai', Runs=24, ScoreRate=53.33, MatchDate='09-07-2010', Ground='Hazelaarweg', Versus='Scotland'),\n",
       " ODI(Country='Afghanistan', Player='Asghar Stanikzai', Runs=24, ScoreRate=53.33, MatchDate='05-07-2010', Ground='VRA Ground', Versus='Kenya'),\n",
       " ODI(Country='Afghanistan', Player='Asghar Stanikzai', Runs=23, ScoreRate=32.85, MatchDate='30-08-2009', Ground='VRA Ground', Versus='Netherlands'),\n",
       " ODI(Country='Afghanistan', Player='Asghar Stanikzai', Runs=20, ScoreRate=48.78, MatchDate='03-07-2010', Ground='Hazelaarweg', Versus='Ireland')]"
      ]
     },
     "execution_count": 62,
     "metadata": {},
     "output_type": "execute_result"
    }
   ],
   "source": [
    "odi.take(10)"
   ]
  },
  {
   "cell_type": "code",
   "execution_count": 60,
   "metadata": {},
   "outputs": [],
   "source": [
    "odi_110 = odi.filter( lambda rec: rec.Runs > 110 )"
   ]
  },
  {
   "cell_type": "code",
   "execution_count": 61,
   "metadata": {},
   "outputs": [
    {
     "data": {
      "text/plain": [
       "[ODI(Country='Australia', Player='Ricky T Ponting', Runs=124, ScoreRate=97.63, MatchDate='12-02-2006', Ground='Sydney Cricket Ground', Versus='Sri Lanka'),\n",
       " ODI(Country='Australia', Player='Ricky T Ponting', Runs=124, ScoreRate=93.23, MatchDate='24-02-2008', Ground='Sydney Cricket Ground', Versus='India'),\n",
       " ODI(Country='Australia', Player='Ricky T Ponting', Runs=123, ScoreRate=89.13, MatchDate='09-01-1996', Ground='Melbourne Cricket Ground', Versus='Sri Lanka'),\n",
       " ODI(Country='Australia', Player='Ricky T Ponting', Runs=119, ScoreRate=96.74, MatchDate='15-12-2002', Ground='Melbourne Cricket Ground', Versus='England'),\n",
       " ODI(Country='Australia', Player='Ricky T Ponting', Runs=115, ScoreRate=95.04, MatchDate='12-01-2000', Ground='Melbourne Cricket Ground', Versus='India'),\n",
       " ODI(Country='Australia', Player='Ricky T Ponting', Runs=115, ScoreRate=112.74, MatchDate='10-01-2005', Ground='Melbourne Cricket Ground', Versus='ACC Asian XI'),\n",
       " ODI(Country='Australia', Player='Ricky T Ponting', Runs=114, ScoreRate=104.58, MatchDate='07-03-2003', Ground='Supersport Park', Versus='Sri Lanka'),\n",
       " ODI(Country='Australia', Player='Ricky T Ponting', Runs=113, ScoreRate=121.5, MatchDate='14-03-2007', Ground='Warner Park', Versus='Scotland'),\n",
       " ODI(Country='Australia', Player='Ricky T Ponting', Runs=111, ScoreRate=90.98, MatchDate='28-01-2007', Ground='W.A.C.A. Ground', Versus='New Zealand'),\n",
       " ODI(Country='Australia', Player='Ricky T Ponting', Runs=111, ScoreRate=96.52, MatchDate='02-10-2009', Ground='Supersport Park', Versus='England')]"
      ]
     },
     "execution_count": 61,
     "metadata": {},
     "output_type": "execute_result"
    }
   ],
   "source": [
    "odi_110.take(10)"
   ]
  },
  {
   "cell_type": "code",
   "execution_count": 50,
   "metadata": {},
   "outputs": [],
   "source": [
    "odi_110_changed = odi_110.map(lambda rec: (rec.Country, rec.Player) )"
   ]
  },
  {
   "cell_type": "code",
   "execution_count": 51,
   "metadata": {},
   "outputs": [
    {
     "data": {
      "text/plain": [
       "[('Australia', 'Ricky T Ponting'),\n",
       " ('Australia', 'Ricky T Ponting'),\n",
       " ('Australia', 'Ricky T Ponting'),\n",
       " ('Australia', 'Ricky T Ponting'),\n",
       " ('Australia', 'Ricky T Ponting'),\n",
       " ('Australia', 'Ricky T Ponting'),\n",
       " ('Australia', 'Ricky T Ponting'),\n",
       " ('Australia', 'Ricky T Ponting'),\n",
       " ('Australia', 'Ricky T Ponting'),\n",
       " ('Australia', 'Ricky T Ponting')]"
      ]
     },
     "execution_count": 51,
     "metadata": {},
     "output_type": "execute_result"
    }
   ],
   "source": [
    "odi_110_changed.take(10)"
   ]
  },
  {
   "cell_type": "code",
   "execution_count": null,
   "metadata": {},
   "outputs": [],
   "source": []
  }
 ],
 "metadata": {
  "kernelspec": {
   "display_name": "Python 3",
   "language": "python",
   "name": "python3"
  },
  "language_info": {
   "codemirror_mode": {
    "name": "ipython",
    "version": 3
   },
   "file_extension": ".py",
   "mimetype": "text/x-python",
   "name": "python",
   "nbconvert_exporter": "python",
   "pygments_lexer": "ipython3",
   "version": "3.7.3"
  }
 },
 "nbformat": 4,
 "nbformat_minor": 2
}
